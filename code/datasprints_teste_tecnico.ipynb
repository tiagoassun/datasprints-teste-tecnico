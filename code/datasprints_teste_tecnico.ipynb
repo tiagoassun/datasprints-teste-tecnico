{
  "nbformat": 4,
  "nbformat_minor": 0,
  "metadata": {
    "colab": {
      "name": "Copy of datasprints-teste-tecnico.ipynb",
      "provenance": [],
      "collapsed_sections": [],
      "toc_visible": true
    },
    "kernelspec": {
      "name": "python3",
      "display_name": "Python 3"
    }
  },
  "cells": [
    {
      "cell_type": "markdown",
      "metadata": {
        "id": "v00GJHOawGSu",
        "colab_type": "text"
      },
      "source": [
        "# Teste Técnico de Engenharia de Dados"
      ]
    },
    {
      "cell_type": "markdown",
      "metadata": {
        "id": "VoDzzh4HUD5C",
        "colab_type": "text"
      },
      "source": [
        "## Baixando, instalando e configurando o Apache Spark"
      ]
    },
    {
      "cell_type": "code",
      "metadata": {
        "id": "J-H4swR8wS6G",
        "colab_type": "code",
        "colab": {}
      },
      "source": [
        "# Instalar as dependências\n",
        "!apt-get install openjdk-8-jdk-headless -qq > /dev/null\n",
        "\n",
        "# Baixando Apche Spark que será salvo em no diretorio \"/content/\"\n",
        "!wget -q https://archive.apache.org/dist/spark/spark-2.4.4/spark-2.4.4-bin-hadoop2.7.tgz\n",
        "!tar xf spark-2.4.4-bin-hadoop2.7.tgz"
      ],
      "execution_count": 0,
      "outputs": []
    },
    {
      "cell_type": "code",
      "metadata": {
        "id": "zZ8p1mnQ4MQg",
        "colab_type": "code",
        "outputId": "807cfb8a-1557-4c4d-f81a-9a67dac9fb22",
        "colab": {
          "base_uri": "https://localhost:8080/",
          "height": 595
        }
      },
      "source": [
        "# Baixando bibliotecas\n",
        "!pip install -q findspark\n",
        "!pip install pyspark[sql]\n",
        "!pip install seaborn\n",
        "!pip install geopandas"
      ],
      "execution_count": 0,
      "outputs": [
        {
          "output_type": "stream",
          "text": [
            "Requirement already satisfied: pyspark[sql] in /usr/local/lib/python3.6/dist-packages (2.4.5)\n",
            "Requirement already satisfied: py4j==0.10.7 in /usr/local/lib/python3.6/dist-packages (from pyspark[sql]) (0.10.7)\n",
            "Requirement already satisfied: pyarrow>=0.8.0; extra == \"sql\" in /usr/local/lib/python3.6/dist-packages (from pyspark[sql]) (0.14.1)\n",
            "Requirement already satisfied: pandas>=0.19.2; extra == \"sql\" in /usr/local/lib/python3.6/dist-packages (from pyspark[sql]) (0.25.3)\n",
            "Requirement already satisfied: numpy>=1.14 in /usr/local/lib/python3.6/dist-packages (from pyarrow>=0.8.0; extra == \"sql\"->pyspark[sql]) (1.17.5)\n",
            "Requirement already satisfied: six>=1.0.0 in /usr/local/lib/python3.6/dist-packages (from pyarrow>=0.8.0; extra == \"sql\"->pyspark[sql]) (1.12.0)\n",
            "Requirement already satisfied: python-dateutil>=2.6.1 in /usr/local/lib/python3.6/dist-packages (from pandas>=0.19.2; extra == \"sql\"->pyspark[sql]) (2.6.1)\n",
            "Requirement already satisfied: pytz>=2017.2 in /usr/local/lib/python3.6/dist-packages (from pandas>=0.19.2; extra == \"sql\"->pyspark[sql]) (2018.9)\n",
            "Requirement already satisfied: seaborn in /usr/local/lib/python3.6/dist-packages (0.10.0)\n",
            "Requirement already satisfied: numpy>=1.13.3 in /usr/local/lib/python3.6/dist-packages (from seaborn) (1.17.5)\n",
            "Requirement already satisfied: scipy>=1.0.1 in /usr/local/lib/python3.6/dist-packages (from seaborn) (1.4.1)\n",
            "Requirement already satisfied: matplotlib>=2.1.2 in /usr/local/lib/python3.6/dist-packages (from seaborn) (3.1.3)\n",
            "Requirement already satisfied: pandas>=0.22.0 in /usr/local/lib/python3.6/dist-packages (from seaborn) (0.25.3)\n",
            "Requirement already satisfied: kiwisolver>=1.0.1 in /usr/local/lib/python3.6/dist-packages (from matplotlib>=2.1.2->seaborn) (1.1.0)\n",
            "Requirement already satisfied: cycler>=0.10 in /usr/local/lib/python3.6/dist-packages (from matplotlib>=2.1.2->seaborn) (0.10.0)\n",
            "Requirement already satisfied: pyparsing!=2.0.4,!=2.1.2,!=2.1.6,>=2.0.1 in /usr/local/lib/python3.6/dist-packages (from matplotlib>=2.1.2->seaborn) (2.4.6)\n",
            "Requirement already satisfied: python-dateutil>=2.1 in /usr/local/lib/python3.6/dist-packages (from matplotlib>=2.1.2->seaborn) (2.6.1)\n",
            "Requirement already satisfied: pytz>=2017.2 in /usr/local/lib/python3.6/dist-packages (from pandas>=0.22.0->seaborn) (2018.9)\n",
            "Requirement already satisfied: setuptools in /usr/local/lib/python3.6/dist-packages (from kiwisolver>=1.0.1->matplotlib>=2.1.2->seaborn) (45.1.0)\n",
            "Requirement already satisfied: six in /usr/local/lib/python3.6/dist-packages (from cycler>=0.10->matplotlib>=2.1.2->seaborn) (1.12.0)\n",
            "Requirement already satisfied: geopandas in /usr/local/lib/python3.6/dist-packages (0.6.3)\n",
            "Requirement already satisfied: pandas>=0.23.0 in /usr/local/lib/python3.6/dist-packages (from geopandas) (0.25.3)\n",
            "Requirement already satisfied: pyproj in /usr/local/lib/python3.6/dist-packages (from geopandas) (2.4.2.post1)\n",
            "Requirement already satisfied: fiona in /usr/local/lib/python3.6/dist-packages (from geopandas) (1.8.13)\n",
            "Requirement already satisfied: shapely in /usr/local/lib/python3.6/dist-packages (from geopandas) (1.7.0)\n",
            "Requirement already satisfied: numpy>=1.13.3 in /usr/local/lib/python3.6/dist-packages (from pandas>=0.23.0->geopandas) (1.17.5)\n",
            "Requirement already satisfied: pytz>=2017.2 in /usr/local/lib/python3.6/dist-packages (from pandas>=0.23.0->geopandas) (2018.9)\n",
            "Requirement already satisfied: python-dateutil>=2.6.1 in /usr/local/lib/python3.6/dist-packages (from pandas>=0.23.0->geopandas) (2.6.1)\n",
            "Requirement already satisfied: click-plugins>=1.0 in /usr/local/lib/python3.6/dist-packages (from fiona->geopandas) (1.1.1)\n",
            "Requirement already satisfied: six>=1.7 in /usr/local/lib/python3.6/dist-packages (from fiona->geopandas) (1.12.0)\n",
            "Requirement already satisfied: munch in /usr/local/lib/python3.6/dist-packages (from fiona->geopandas) (2.5.0)\n",
            "Requirement already satisfied: click<8,>=4.0 in /usr/local/lib/python3.6/dist-packages (from fiona->geopandas) (7.0)\n",
            "Requirement already satisfied: cligj>=0.5 in /usr/local/lib/python3.6/dist-packages (from fiona->geopandas) (0.5.0)\n",
            "Requirement already satisfied: attrs>=17 in /usr/local/lib/python3.6/dist-packages (from fiona->geopandas) (19.3.0)\n"
          ],
          "name": "stdout"
        }
      ]
    },
    {
      "cell_type": "code",
      "metadata": {
        "id": "wcMZAtYJwUkU",
        "colab_type": "code",
        "colab": {}
      },
      "source": [
        "# Configurar as variáveis de ambiente do Linux que o Google Colab rodar em cima\n",
        "import os\n",
        "os.environ[\"JAVA_HOME\"] = \"/usr/lib/jvm/java-8-openjdk-amd64\"\n",
        "os.environ[\"SPARK_HOME\"] = \"/content/spark-2.4.4-bin-hadoop2.7\""
      ],
      "execution_count": 0,
      "outputs": []
    },
    {
      "cell_type": "code",
      "metadata": {
        "id": "-16rvGez6YIc",
        "colab_type": "code",
        "colab": {}
      },
      "source": [
        "# Tornar o pyspark \"importável\"\n",
        "import findspark\n",
        "findspark.init('spark-2.4.4-bin-hadoop2.7')\n",
        "\n",
        "# Iniciar uma sessão local\n",
        "import pyspark\n",
        "from pyspark.sql import SparkSession\n",
        "from pyspark.sql import SQLContext\n",
        "\n",
        "spark = SparkSession.builder.master('local[*]').getOrCreate()\n",
        "sqlContext = SQLContext(spark)\n",
        "\n",
        "spark.conf.set(\"spark.driver.maxResultSize\", \"0\")\n",
        "spark.conf.set(\"spark.executor.memory\", \"11g\")\n",
        "spark.conf.set(\"spark.driver.memory\t\", \"11g\")\n",
        "\n",
        "# Necessário para poder usar o \".toPandas()\" de forma otimizada com grandes quantidades de dados: \n",
        "# - https://spark.apache.org/docs/latest/api/python/pyspark.sql.html#pyspark.sql.DataFrame.toPandas\n",
        "# - https://spark.apache.org/docs/latest/sql-pyspark-pandas-with-arrow.html\n",
        "spark.conf.set(\"spark.sql.execution.arrow.enabled\", \"true\")\n",
        "spark.conf.set(\"spark.sql.execution.arrow.fallback.enabled\", \"true\")"
      ],
      "execution_count": 0,
      "outputs": []
    },
    {
      "cell_type": "markdown",
      "metadata": {
        "id": "qqg9I5HWbJzi",
        "colab_type": "text"
      },
      "source": [
        "## Criando conexão com o Google Drive e importando datasets"
      ]
    },
    {
      "cell_type": "code",
      "metadata": {
        "id": "3CSiFzs4w0vL",
        "colab_type": "code",
        "outputId": "dba4598b-92f0-42d0-ea1b-6dbc61c526b4",
        "colab": {
          "base_uri": "https://localhost:8080/",
          "height": 34
        }
      },
      "source": [
        "# Criando conexão com o Google Drive da conta que está utilizando o Google Colab\n",
        "from google.colab import drive\n",
        "drive.mount('/content/drive/')"
      ],
      "execution_count": 0,
      "outputs": [
        {
          "output_type": "stream",
          "text": [
            "Drive already mounted at /content/drive/; to attempt to forcibly remount, call drive.mount(\"/content/drive/\", force_remount=True).\n"
          ],
          "name": "stdout"
        }
      ]
    },
    {
      "cell_type": "code",
      "metadata": {
        "id": "WDw4V98o48of",
        "colab_type": "code",
        "colab": {}
      },
      "source": [
        "# Trips\n",
        "df_trips = spark.read.json(\"drive/My Drive/datasets/processos-seletivos/datasprints/trips/*.json\")"
      ],
      "execution_count": 0,
      "outputs": []
    },
    {
      "cell_type": "code",
      "metadata": {
        "id": "1is7DEdTrUyF",
        "colab_type": "code",
        "colab": {}
      },
      "source": [
        "# Vendor\n",
        "df_vendor = sqlContext.read \\\n",
        "                      .format(\"com.databricks.spark.csv\") \\\n",
        "                      .option(\"header\", \"true\") \\\n",
        "                      .load(\"drive/My Drive/datasets/processos-seletivos/datasprints/vendor-lookup/data-vendor_lookup-csv.csv\")"
      ],
      "execution_count": 0,
      "outputs": []
    },
    {
      "cell_type": "markdown",
      "metadata": {
        "id": "b2zqZp59p-p2",
        "colab_type": "text"
      },
      "source": [
        "## 1 - Qual a distância média percorrida por viagens com no máximo 2 passageiros."
      ]
    },
    {
      "cell_type": "code",
      "metadata": {
        "id": "8xTUEu6XnM2x",
        "colab_type": "code",
        "outputId": "5db6f99a-e197-4f99-ba16-392a19404485",
        "colab": {
          "base_uri": "https://localhost:8080/",
          "height": 119
        }
      },
      "source": [
        "# Cria uma tabela temporaria para que assim seja possível utilizar a sintaxe de SQL ANSI\n",
        "df_trips.registerTempTable(\"tb_trips\")\n",
        "\n",
        "# Faz a consulta SQL pelo Spark\n",
        "df_trips_media_distancia = spark.sql(\"SELECT AVG(trip_distance) media_distancia FROM tb_trips WHERE passenger_count = 2\")\n",
        "\n",
        "# Removendo a tabela da memória\n",
        "spark.catalog.uncacheTable(\"tb_trips\")\n",
        "\n",
        "df_trips_media_distancia.show(truncate=False)"
      ],
      "execution_count": 0,
      "outputs": [
        {
          "output_type": "stream",
          "text": [
            "+-----------------+\n",
            "|media_distancia  |\n",
            "+-----------------+\n",
            "|2.835128496886786|\n",
            "+-----------------+\n",
            "\n"
          ],
          "name": "stdout"
        }
      ]
    },
    {
      "cell_type": "markdown",
      "metadata": {
        "id": "f-iF2Vtk-sRa",
        "colab_type": "text"
      },
      "source": [
        "## 2 - Quais os 3 maiores vendors em quantidade total de dinheiro arrecadado."
      ]
    },
    {
      "cell_type": "code",
      "metadata": {
        "id": "87UOIr3AoE8p",
        "colab_type": "code",
        "outputId": "298bf5a3-a807-4f6d-fac6-6c761ee44401",
        "colab": {
          "base_uri": "https://localhost:8080/",
          "height": 153
        }
      },
      "source": [
        "# Importando para conversar números para decimal\n",
        "from pyspark.sql.types import DecimalType\n",
        "\n",
        "# Criando uma tabela temporaria para que assim seja possível utilizar a sintaxe de SQL ANSI\n",
        "df_trips.registerTempTable(\"tb_trips\")\n",
        "df_vendor.registerTempTable(\"tb_vendor\")\n",
        "\n",
        "# Colocando as tabelas em cache\n",
        "spark.catalog.cacheTable(\"tb_trips\")\n",
        "spark.catalog.cacheTable(\"tb_vendor\")\n",
        "\n",
        "consulta_sql = \"\"\"\n",
        "SELECT SUM(T.total_amount) sum_total_amount, T.vendor_id, V.name \n",
        "FROM tb_trips T\n",
        "JOIN tb_vendor V ON (T.vendor_id = V.vendor_id)\n",
        "GROUP BY T.vendor_id, V.name\n",
        "ORDER BY sum_total_amount DESC LIMIT 3\"\"\"\n",
        "\n",
        "# Fazendo a consulta SQL pelo Spark\n",
        "df_maiores_vendors = spark.sql(consulta_sql)\n",
        "\n",
        "# Convertendo a coluna \"sum_total_amount\" para decimal, pois do contrário os valores serão exibidos em notação cientifica\n",
        "df_maiores_vendors = df_maiores_vendors.withColumn('sum_total_amount', df_maiores_vendors.sum_total_amount.cast(DecimalType(18, 2)))\n",
        "\n",
        "# Removendo as tabelas da memória\n",
        "spark.catalog.uncacheTable(\"tb_trips\")\n",
        "spark.catalog.uncacheTable(\"tb_vendor\")\n",
        "\n",
        "df_maiores_vendors.show(truncate=False)"
      ],
      "execution_count": 0,
      "outputs": [
        {
          "output_type": "stream",
          "text": [
            "+----------------+---------+---------------------------------+\n",
            "|sum_total_amount|vendor_id|name                             |\n",
            "+----------------+---------+---------------------------------+\n",
            "|19549084.28     |CMT      |Creative Mobile Technologies, LLC|\n",
            "|19043434.00     |VTS      |VeriFone Inc                     |\n",
            "|2714901.72      |DDS      |Dependable Driver Service, Inc   |\n",
            "+----------------+---------+---------------------------------+\n",
            "\n"
          ],
          "name": "stdout"
        }
      ]
    },
    {
      "cell_type": "markdown",
      "metadata": {
        "id": "2Aw-jdzybgYS",
        "colab_type": "text"
      },
      "source": [
        "## 3 - Faça um histograma da distribuição mensal, nos 4 anos, de corridas pagas em dinheiro."
      ]
    },
    {
      "cell_type": "code",
      "metadata": {
        "id": "tmWORcQ7ff7v",
        "colab_type": "code",
        "outputId": "cd507409-c433-4144-900e-62a7d8a58d12",
        "colab": {
          "base_uri": "https://localhost:8080/",
          "height": 330
        }
      },
      "source": [
        "import pandas as pd\n",
        "import seaborn as sns\n",
        "\n",
        "# Criando uma tabela temporaria para que assim seja possível utilizar a sintaxe de SQL ANSI\n",
        "df_trips.registerTempTable(\"tb_trips\")\n",
        "\n",
        "# Colocando a tabela em cache\n",
        "spark.catalog.cacheTable(\"tb_trips\")\n",
        "\n",
        "consulta_sql = \"\"\"\n",
        "SELECT SUBSTRING(dropoff_datetime, 6, 2) meses, tb_trips.*\n",
        "FROM tb_trips\n",
        "WHERE UPPER(payment_type) = 'CASH'\"\"\"\n",
        "\n",
        "# Fazendo a consulta SQL pelo Spark\n",
        "df_hist_distri_mes = spark.sql(consulta_sql)\n",
        "\n",
        "# Removendo a tabela da memória\n",
        "spark.catalog.uncacheTable(\"tb_trips\")\n",
        "\n",
        "# Transformando um Datafram Spark em um Datafram Pandas\n",
        "df_pandas_mes = df_hist_distri_mes.toPandas()\n",
        "\n",
        "# Trocando todos os valores \"Cash\" por \"CASH\" na coluna \"payment_type\"\n",
        "df_pandas_mes.loc[(df_pandas_mes.payment_type == 'Cash'),'payment_type']='CASH'\n",
        "\n",
        "# Convertendo colunas para \"datetime\"\n",
        "df_pandas_mes[\"dropoff_datetime\"] = pd.to_datetime(df_pandas_mes[\"dropoff_datetime\"])\n",
        "df_pandas_mes[\"pickup_datetime\"] = pd.to_datetime(df_pandas_mes[\"pickup_datetime\"])\n",
        "\n",
        "# Plotando gráfico\n",
        "sns.distplot(df_pandas_mes[\"meses\"], kde=False, rug=True)"
      ],
      "execution_count": 0,
      "outputs": [
        {
          "output_type": "stream",
          "text": [
            "/usr/local/lib/python3.6/dist-packages/pyarrow/__init__.py:157: UserWarning: pyarrow.open_stream is deprecated, please use pyarrow.ipc.open_stream\n",
            "  warnings.warn(\"pyarrow.open_stream is deprecated, please use \"\n"
          ],
          "name": "stderr"
        },
        {
          "output_type": "execute_result",
          "data": {
            "text/plain": [
              "<matplotlib.axes._subplots.AxesSubplot at 0x7fcdd41922b0>"
            ]
          },
          "metadata": {
            "tags": []
          },
          "execution_count": 10
        },
        {
          "output_type": "display_data",
          "data": {
            "image/png": "[encoded data removed]",
            "text/plain": [
              "<Figure size 432x288 with 1 Axes>"
            ]
          },
          "metadata": {
            "tags": []
          }
        }
      ]
    },
    {
      "cell_type": "markdown",
      "metadata": {
        "id": "aU3TwVoZms8C",
        "colab_type": "text"
      },
      "source": [
        "## 4 - Faça um gráfico de série temporal contando a quantidade de gorjetas de cada dia, nos últimos 3 meses de 2012."
      ]
    },
    {
      "cell_type": "code",
      "metadata": {
        "id": "6exSbXF3vbi1",
        "colab_type": "code",
        "outputId": "ec0e7c88-d58d-4823-8766-d0a36acf500c",
        "colab": {
          "base_uri": "https://localhost:8080/",
          "height": 400
        }
      },
      "source": [
        "import pandas as pd\n",
        "from datetime import datetime as dt\n",
        "\n",
        "# Criando uma tabela temporaria para que assim seja possível utilizar a sintaxe de SQL ANSI\n",
        "df_trips.registerTempTable(\"tb_trips\")\n",
        "\n",
        "consulta_sql = \"\"\"\n",
        "SELECT SUBSTRING(dropoff_datetime, 1, 10) dias, tb_trips.*\n",
        "FROM tb_trips\"\"\"\n",
        "\n",
        "# Fazendo a consulta SQL pelo Spark\n",
        "df_hist_distri_dia = spark.sql(consulta_sql)\n",
        "\n",
        "# Transformando um Datafram Spark em um Datafram Pandas\n",
        "df_pandas_dia = df_hist_distri_dia.toPandas()\n",
        "\n",
        "# Convertendo colunas para \"datetime\"\n",
        "df_pandas_dia[\"dias\"] = pd.to_datetime(df_pandas_dia[\"dias\"])\n",
        "\n",
        "# Pegando dados dos ultimos 3 meses\n",
        "df_pandas_dias_tres_meses = df_pandas_dia[df_pandas_dia[\"dias\"] > '2012-09-30']\n",
        "\n",
        "# Agrupando pelos dias\n",
        "df_group = df_pandas_dias_tres_meses.groupby('dias')\n",
        "\n",
        "# Contando gorjetas por dia\n",
        "df_group = df_group[\"tip_amount\"].count()\n",
        "\n",
        "# Voltando os dados para o formato Dataframe\n",
        "df_serie_temp = df_group.to_frame().reset_index()\n",
        "\n",
        "# Renomeando colunas\n",
        "df_serie_temp.columns = [\"dias\", \"total\"]\n",
        "\n",
        "# Mudando formato das datas para ficar melhor visualmente no gráficos\n",
        "df_serie_temp[\"dias\"] = df_serie_temp['dias'].apply(lambda x: x.strftime('%d %m %Y'))\n",
        "\n",
        "# Plotando gráfico\n",
        "g = sns.relplot(x=\"dias\", y=\"total\", kind=\"line\", data=df_serie_temp, aspect = 4)\n",
        "g.fig.autofmt_xdate()"
      ],
      "execution_count": 0,
      "outputs": [
        {
          "output_type": "stream",
          "text": [
            "/usr/local/lib/python3.6/dist-packages/pyarrow/__init__.py:157: UserWarning: pyarrow.open_stream is deprecated, please use pyarrow.ipc.open_stream\n",
            "  warnings.warn(\"pyarrow.open_stream is deprecated, please use \"\n"
          ],
          "name": "stderr"
        },
        {
          "output_type": "display_data",
          "data": {
            "image/png": "[encoded data removed]",
            "text/plain": [
              "<Figure size 1440x360 with 1 Axes>"
            ]
          },
          "metadata": {
            "tags": []
          }
        }
      ]
    },
    {
      "cell_type": "markdown",
      "metadata": {
        "id": "d6oxxg7M9tD8",
        "colab_type": "text"
      },
      "source": [
        "## 5 - Qual o tempo médio das corridas nos dias de sábado e domingo."
      ]
    },
    {
      "cell_type": "code",
      "metadata": {
        "id": "qVMz3IoR90Va",
        "colab_type": "code",
        "outputId": "1c978783-ea1e-4bb0-ae48-845b0b88a704",
        "colab": {
          "base_uri": "https://localhost:8080/",
          "height": 102
        }
      },
      "source": [
        "import pandas as pd\n",
        "from datetime import datetime as dt\n",
        "\n",
        "# Criando uma tabela temporaria para que assim seja possível utilizar a sintaxe de SQL ANSI\n",
        "df_trips.registerTempTable(\"tb_trips\")\n",
        "\n",
        "consulta_sql = \"\"\"\n",
        "SELECT tb_trips.*, SUBSTRING(dropoff_datetime, 1, 10) dias\n",
        "FROM tb_trips\"\"\"\n",
        "\n",
        "# Fazendo a consulta SQL pelo Spark\n",
        "df_fim_semana = spark.sql(consulta_sql)\n",
        "\n",
        "# Transformando um Datafram Spark em um Datafram Pandas\n",
        "df_pandas_fim_semana = df_fim_semana.toPandas()\n",
        "\n",
        "# Convertendo colunas para \"datetime\"\n",
        "df_pandas_fim_semana[\"dias\"] = pd.to_datetime(df_pandas_fim_semana[\"dias\"])\n",
        "\n",
        "# Criando lista com nomes dos dias da semana\n",
        "nomes_semana = [\"DOM\", \"SEG\", \"TER\", \"QUA\", \"QUI\", \"SEX\", \"SAB\"]\n",
        "\n",
        "# Pega a data, por exemplo \"2009-04-21\", e nessa data é aplicado o \"strftime(\"%w\")\".\n",
        "# Essa função retorna numeros de 0 a 6, sendo que 0 representa o domingo, 1 representa a segunda e assim por diante.\n",
        "# Então aplicando esse numero retornado pela função na lista definada previamente, é possível retornar da lista o nome do dia da semana de forma correta.\n",
        "# Aplicando isso com o \"apply\" em uma função \"lambda\" eu consigo fazer isso para todos os registros da coluna \"dias\" e jogar o resultado na coluna \"dia\".\n",
        "# df_pandas_fim_semana[\"dia\"] = df_pandas_fim_semana['dias'].apply(lambda x: x.strftime('%w'))\n",
        "df_pandas_fim_semana[\"dia\"] = df_pandas_fim_semana['dias'].apply(lambda x: nomes_semana[int(x.strftime(\"%w\"))])\n",
        "\n",
        "# Pegando dados de sabádo e domingo\n",
        "df_pandas_fim_semana = df_pandas_fim_semana[df_pandas_fim_semana[\"dia\"].isin(['SAB', 'DOM'])]\n",
        "\n",
        "# Convertendo colunas para \"datetime\"\n",
        "df_pandas_fim_semana[\"dropoff_datetime\"] = pd.to_datetime(df_pandas_fim_semana[\"dropoff_datetime\"])\n",
        "df_pandas_fim_semana[\"pickup_datetime\"] = pd.to_datetime(df_pandas_fim_semana[\"pickup_datetime\"])\n",
        "\n",
        "# Pegando tempo das corridas\n",
        "df_pandas_fim_semana['temp_corrida'] = df_pandas_fim_semana['dropoff_datetime'] - df_pandas_fim_semana['pickup_datetime']\n",
        "\n",
        "# Pegando média de tempo das corridas\n",
        "media_temp_corridas = df_pandas_fim_semana['temp_corrida'].mean()\n",
        "\n",
        "print('\\n')\n",
        "print(\"Tempo médio das corridas nos dias de sábado e domingo: \" + str(media_temp_corridas))"
      ],
      "execution_count": 0,
      "outputs": [
        {
          "output_type": "stream",
          "text": [
            "/usr/local/lib/python3.6/dist-packages/pyarrow/__init__.py:157: UserWarning: pyarrow.open_stream is deprecated, please use pyarrow.ipc.open_stream\n",
            "  warnings.warn(\"pyarrow.open_stream is deprecated, please use \"\n"
          ],
          "name": "stderr"
        },
        {
          "output_type": "stream",
          "text": [
            "\n",
            "\n",
            "Tempo médio das corridas nos dias de sábado e domingo: 0 days 00:08:44.787484\n"
          ],
          "name": "stdout"
        }
      ]
    }
  ]
}